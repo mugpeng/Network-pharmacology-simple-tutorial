{
 "cells": [
  {
   "cell_type": "code",
   "execution_count": null,
   "metadata": {},
   "outputs": [],
   "source": [
    "import os\n",
    "import re\n",
    "import json\n",
    "import requests\n",
    "import pandas as pd\n",
    "from bs4 import BeautifulSoup as bs\n",
    "import lxml.html"
   ]
  },
  {
   "cell_type": "markdown",
   "metadata": {},
   "source": [
    "# Batch performance"
   ]
  },
  {
   "cell_type": "code",
   "execution_count": null,
   "metadata": {},
   "outputs": [],
   "source": [
    "def getHerbInfo(url, name):\n",
    "    # preprocess\n",
    "    html = get_response(url)\n",
    "    soup = bs(html, \"html.parser\")\n",
    "    scripts = soup.findAll(\"script\")\n",
    "    text = scripts[11].__str__()\n",
    "    # chemical attr\n",
    "    pattern = rf\"\\$\\(\\\"\\#grid\\\".*\\n.*\\n.*data\\:\\s(\\[.*\\])\"\n",
    "    chemical_attr = re.compile(pattern).search(text)[1]\n",
    "    chemical_attr = json.loads(chemical_attr)\n",
    "    # output csv\n",
    "    os.makedirs(\"Output/\" + name)\n",
    "    chemical_attr_df = pd.DataFrame(chemical_attr)\n",
    "    chemical_attr_df.to_csv('Output/' + name + '/chemical_attr.csv', index=False)\n",
    "    # chemical tar\n",
    "    pattern2 = rf\"\\$\\(\\\"\\#grid2\\\".*\\n.*\\n.*data\\:\\s(\\[.*\\])\"\n",
    "    chemical_tar = re.compile(pattern2).search(text)[1]\n",
    "    chemical_tar = json.loads(chemical_tar)\n",
    "    chemical_tar_df = pd.DataFrame(chemical_tar)\n",
    "    chemical_tar_df.to_csv('Output/' + name + '/chemical_tar.csv', index=False)"
   ]
  },
  {
   "cell_type": "code",
   "execution_count": null,
   "metadata": {},
   "outputs": [],
   "source": [
    "url_sel1 = \"https://tcmsp-e.com/tcmspsearch.php?qr=Poria%20Cocos(Schw.)%20Wolf.&qsr=herb_en_name&token=afb5662144e324a8f7fcc7cc5e76fdc8\"\n",
    "name_sel1 = \"fulin\"\n",
    "getHerbInfo(url_sel1, name_sel1)"
   ]
  },
  {
   "cell_type": "code",
   "execution_count": null,
   "metadata": {},
   "outputs": [],
   "source": [
    "url_sel2 = \"https://tcmsp-e.com/tcmspsearch.php?qr=Lablab%20Semen%20Album&qsr=herb_en_name&token=afb5662144e324a8f7fcc7cc5e76fdc8\"\n",
    "name_sel2 = \"baibiandou\"\n",
    "getHerbInfo(url_sel2, name_sel2)"
   ]
  },
  {
   "cell_type": "code",
   "execution_count": null,
   "metadata": {},
   "outputs": [],
   "source": [
    "url_sel3 = \"https://tcmsp-e.com/tcmspsearch.php?qr=licorice&qsr=herb_en_name&token=afb5662144e324a8f7fcc7cc5e76fdc8\"\n",
    "name_sel3 = \"gancao\"\n",
    "getHerbInfo(url_sel3, name_sel3)"
   ]
  },
  {
   "cell_type": "code",
   "execution_count": null,
   "metadata": {},
   "outputs": [],
   "source": [
    "url_sel4 = \"https://tcmsp-e.com/tcmspsearch.php?qr=Coicis%20Semen&qsr=herb_en_name&token=afb5662144e324a8f7fcc7cc5e76fdc8\"\n",
    "name_sel4 = \"Yiyiren\"\n",
    "getHerbInfo(url_sel4, name_sel4)"
   ]
  },
  {
   "cell_type": "code",
   "execution_count": null,
   "metadata": {},
   "outputs": [],
   "source": [
    "url_sel5 = \"https://tcmsp-e.com/tcmspsearch.php?qr=Amomum%20Aurantiacum%20H.%20T.%20Tsai%20Et%20S.%20W.%20Zhao&qsr=herb_en_name&token=afb5662144e324a8f7fcc7cc5e76fdc8\"\n",
    "name_sel5 = \"Sharen\"\n",
    "getHerbInfo(url_sel5, name_sel5)"
   ]
  },
  {
   "cell_type": "code",
   "execution_count": null,
   "metadata": {},
   "outputs": [],
   "source": [
    "url_sel6 = \"https://tcmsp-e.com/tcmspsearch.php?qr=Platycodon%20Grandiforus&qsr=herb_en_name&token=afb5662144e324a8f7fcc7cc5e76fdc8\"\n",
    "name_sel6 = \"Jiegeng\"\n",
    "getHerbInfo(url_sel6, name_sel6)"
   ]
  },
  {
   "cell_type": "code",
   "execution_count": null,
   "metadata": {},
   "outputs": [],
   "source": [
    "url_sel7 = \"https://tcmsp-e.com/tcmspsearch.php?qr=Atractylodes%20Macrocephala%20Koidz.&qsr=herb_en_name&token=afb5662144e324a8f7fcc7cc5e76fdc8\"\n",
    "name_sel7 = \"Baizhu\"\n",
    "getHerbInfo(url_sel7, name_sel7)"
   ]
  },
  {
   "cell_type": "code",
   "execution_count": null,
   "metadata": {},
   "outputs": [],
   "source": [
    "url_sel8 = \"https://tcmsp-e.com/tcmspsearch.php?qr=Rhizoma%20Dioscoreae&qsr=herb_en_name&token=afb5662144e324a8f7fcc7cc5e76fdc8\"\n",
    "name_sel8 = \"Shanyao\"\n",
    "getHerbInfo(url_sel8, name_sel8)"
   ]
  },
  {
   "cell_type": "code",
   "execution_count": null,
   "metadata": {},
   "outputs": [],
   "source": [
    "url_sel9 = \"https://tcmsp-e.com/tcmspsearch.php?qr=Nelumbinis%20Plumula&qsr=herb_en_name&token=afb5662144e324a8f7fcc7cc5e76fdc8\"\n",
    "name_sel9 = \"Lianzixin\"\n",
    "getHerbInfo(url_sel9, name_sel9)"
   ]
  },
  {
   "cell_type": "code",
   "execution_count": null,
   "metadata": {},
   "outputs": [],
   "source": [
    "url_sel10 = \"https://tcmsp-e.com/tcmspsearch.php?qr=Panax%20Ginseng%20C.%20A.%20Mey.&qsr=herb_en_name&token=afb5662144e324a8f7fcc7cc5e76fdc8\"\n",
    "name_sel10 = \"Renshen\"\n",
    "getHerbInfo(url_sel10, name_sel10)"
   ]
  }
 ],
 "metadata": {
  "language_info": {
   "name": "python"
  }
 },
 "nbformat": 4,
 "nbformat_minor": 2
}
